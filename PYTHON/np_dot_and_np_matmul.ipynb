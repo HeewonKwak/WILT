{
  "nbformat": 4,
  "nbformat_minor": 0,
  "metadata": {
    "colab": {
      "name": "np_dot_and_np_matmul.ipynb",
      "provenance": []
    },
    "kernelspec": {
      "name": "python3",
      "display_name": "Python 3"
    },
    "language_info": {
      "name": "python"
    }
  },
  "cells": [
    {
      "cell_type": "markdown",
      "metadata": {
        "id": "rzeSMWZK4hYt"
      },
      "source": [
        "# **Difference between np.dot and np.matmul**"
      ]
    },
    {
      "cell_type": "markdown",
      "metadata": {
        "id": "8kAUgcOkExQw"
      },
      "source": [
        "**numpy_dot(내적)**\n",
        "\n",
        "1. a(1D) dot b(1D) => inner product of vectors \n",
        "2. a(2D) dot b(2D) => matrix multiplication\n",
        "3. a(ND) dot b(0D) => equivalent to multiply\n",
        "4. a(ND) dot b(1D) => sum product over the last axis of a and b\n",
        "5. a(ND) dot b(ND) =>\n",
        ">dot(a, b)[i,j,k,m] = sum(a[i,j,:] * b[k,:,m])"
      ]
    },
    {
      "cell_type": "markdown",
      "metadata": {
        "id": "jkSBY6F64LQC"
      },
      "source": [
        "**I refer to [this site](https://numpy.org/devdocs/reference/generated/numpy.dot.html).**"
      ]
    },
    {
      "cell_type": "code",
      "metadata": {
        "id": "rCQs0qib38U_"
      },
      "source": [
        "import numpy as np\n",
        "\n",
        "A = np.arange(2*3*4).reshape((2,3,4))\n",
        "B1 = np.arange(2*3*4).reshape((2,3,4))\n",
        "B2 = np.arange(2*3*4).reshape((2,4,3))\n",
        "B3 = np.arange(2*3*4).reshape((3,2,4))\n",
        "B4 = np.arange(2*3*4).reshape((3,4,2))\n",
        "B5 = np.arange(2*3*4).reshape((4,2,3))\n",
        "B6 = np.arange(2*3*4).reshape((4,3,2))"
      ],
      "execution_count": 2,
      "outputs": []
    },
    {
      "cell_type": "code",
      "metadata": {
        "id": "5oE_tHU56Jyg"
      },
      "source": [
        "# Example\n",
        "np.dot(A,B1) # Error\n",
        "np.dot(A,B2) # Ok -> (2,3,2,3)\n",
        "np.dot(A,B3) # Error\n",
        "np.dot(A,B4) # Ok -> (2,3,3,2)\n",
        "np.dot(A,B5) # Error\n",
        "np.dot(A,B6) # Error"
      ],
      "execution_count": null,
      "outputs": []
    },
    {
      "cell_type": "markdown",
      "metadata": {
        "id": "cviBTQo6L_Qf"
      },
      "source": [
        "**numpy_matmul(외적)**\n",
        "\n",
        "- Same numpy_dot 1~4\n",
        "\n",
        "- Difference\n",
        ">1. Multiplication by scalars is not allowed, use * instead.\n",
        ">1. Stacks of matrices are broadcast together as if the matrices were elements, respecting the signature (n,k),(k,m)->(n,m):"
      ]
    },
    {
      "cell_type": "markdown",
      "metadata": {
        "id": "TqQ-hTG6MocK"
      },
      "source": [
        "**I refer to [this site](https://numpy.org/devdocs/reference/generated/numpy.matmul.html).**"
      ]
    },
    {
      "cell_type": "code",
      "metadata": {
        "id": "koPwW8pnIzGS"
      },
      "source": [
        "import numpy as np\n",
        "A = np.arange(2*3*4).reshape((2,3,4))\n",
        "B1 = np.arange(2*3*4).reshape((2,3,4))\n",
        "B2 = np.arange(2*3*4).reshape((2,4,3))\n",
        "B3 = np.arange(2*3*4).reshape((3,2,4))\n",
        "B4 = np.arange(2*3*4).reshape((3,4,2))\n",
        "B5 = np.arange(2*3*4).reshape((4,2,3))\n",
        "B6 = np.arange(2*3*4).reshape((4,3,2))"
      ],
      "execution_count": null,
      "outputs": []
    },
    {
      "cell_type": "markdown",
      "metadata": {
        "id": "UHMPlSrbOJh9"
      },
      "source": [
        "np.matmul(A,B1) # Error\n",
        "\n",
        "np.matmul(A,B2) # Ok -> (2,3,3)\n",
        "\n",
        "np.matmul(A,B3) # Error\n",
        "\n",
        "np.matmul(A,B4) # Error\n",
        "\n",
        "np.matmul(A,B5) # Error\n",
        "\n",
        "np.matmul(A,B6) # Error"
      ]
    },
    {
      "cell_type": "code",
      "metadata": {
        "id": "ZAEoTR-4OuY3"
      },
      "source": [
        "A = np.arange(2*3*4).reshape((2,3,4))\n",
        "B = np.arange(2*3*4*5).reshape((5,2,4,3))\n",
        "C = np.arange(1*2*3*4*5*6).reshape((1,5,3,2,4,6))"
      ],
      "execution_count": 4,
      "outputs": []
    },
    {
      "cell_type": "code",
      "metadata": {
        "colab": {
          "base_uri": "https://localhost:8080/"
        },
        "id": "RWQS-Ql7O1jh",
        "outputId": "1c92eb7f-6b18-45bf-d0ab-ab90dc3c3cc0"
      },
      "source": [
        "np.matmul(A,B).shape"
      ],
      "execution_count": 5,
      "outputs": [
        {
          "output_type": "execute_result",
          "data": {
            "text/plain": [
              "(5, 2, 3, 3)"
            ]
          },
          "metadata": {
            "tags": []
          },
          "execution_count": 5
        }
      ]
    },
    {
      "cell_type": "code",
      "metadata": {
        "colab": {
          "base_uri": "https://localhost:8080/"
        },
        "id": "_1hiiYFUO4FU",
        "outputId": "8dd6679a-08d8-4965-f029-431d8fbd77f1"
      },
      "source": [
        "np.matmul(A,C).shape"
      ],
      "execution_count": 6,
      "outputs": [
        {
          "output_type": "execute_result",
          "data": {
            "text/plain": [
              "(1, 5, 3, 2, 3, 6)"
            ]
          },
          "metadata": {
            "tags": []
          },
          "execution_count": 6
        }
      ]
    }
  ]
}